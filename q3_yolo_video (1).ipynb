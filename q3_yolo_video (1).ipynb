{
  "nbformat": 4,
  "nbformat_minor": 0,
  "metadata": {
    "colab": {
      "provenance": [],
      "gpuType": "T4"
    },
    "kernelspec": {
      "name": "python3",
      "display_name": "Python 3"
    },
    "language_info": {
      "name": "python"
    },
    "accelerator": "GPU"
  },
  "cells": [
    {
      "cell_type": "code",
      "source": [
        "!wget -O yolov3.cfg https://raw.githubusercontent.com/pjreddie/darknet/master/cfg/yolov3.cfg\n",
        "!wget -O yolov3.weights https://pjreddie.com/media/files/yolov3.weights\n",
        "!wget -O coco.names https://raw.githubusercontent.com/pjreddie/darknet/master/data/coco.names"
      ],
      "metadata": {
        "colab": {
          "base_uri": "https://localhost:8080/"
        },
        "id": "dWEz1wX6s3IJ",
        "outputId": "cae040ce-3851-4f1d-9f19-932bdfaf0bcd"
      },
      "execution_count": null,
      "outputs": [
        {
          "output_type": "stream",
          "name": "stdout",
          "text": [
            "--2025-03-30 11:07:21--  https://raw.githubusercontent.com/pjreddie/darknet/master/cfg/yolov3.cfg\n",
            "Resolving raw.githubusercontent.com (raw.githubusercontent.com)... 185.199.108.133, 185.199.109.133, 185.199.110.133, ...\n",
            "Connecting to raw.githubusercontent.com (raw.githubusercontent.com)|185.199.108.133|:443... connected.\n",
            "HTTP request sent, awaiting response... 200 OK\n",
            "Length: 8342 (8.1K) [text/plain]\n",
            "Saving to: ‘yolov3.cfg’\n",
            "\n",
            "yolov3.cfg          100%[===================>]   8.15K  --.-KB/s    in 0s      \n",
            "\n",
            "2025-03-30 11:07:21 (66.0 MB/s) - ‘yolov3.cfg’ saved [8342/8342]\n",
            "\n",
            "--2025-03-30 11:07:21--  https://pjreddie.com/media/files/yolov3.weights\n",
            "Resolving pjreddie.com (pjreddie.com)... 162.0.215.52\n",
            "Connecting to pjreddie.com (pjreddie.com)|162.0.215.52|:443... connected.\n",
            "HTTP request sent, awaiting response... 200 OK\n",
            "Length: 248007048 (237M) [application/octet-stream]\n",
            "Saving to: ‘yolov3.weights’\n",
            "\n",
            "yolov3.weights      100%[===================>] 236.52M  1.93MB/s    in 54s     \n",
            "\n",
            "2025-03-30 11:08:16 (4.37 MB/s) - ‘yolov3.weights’ saved [248007048/248007048]\n",
            "\n",
            "--2025-03-30 11:08:16--  https://raw.githubusercontent.com/pjreddie/darknet/master/data/coco.names\n",
            "Resolving raw.githubusercontent.com (raw.githubusercontent.com)... 185.199.111.133, 185.199.109.133, 185.199.110.133, ...\n",
            "Connecting to raw.githubusercontent.com (raw.githubusercontent.com)|185.199.111.133|:443... connected.\n",
            "HTTP request sent, awaiting response... 200 OK\n",
            "Length: 625 [text/plain]\n",
            "Saving to: ‘coco.names’\n",
            "\n",
            "coco.names          100%[===================>]     625  --.-KB/s    in 0s      \n",
            "\n",
            "2025-03-30 11:08:17 (51.1 MB/s) - ‘coco.names’ saved [625/625]\n",
            "\n"
          ]
        }
      ]
    },
    {
      "cell_type": "code",
      "source": [
        "import cv2\n",
        "import numpy as np\n",
        "\n",
        "# Load YOLO model\n",
        "net = cv2.dnn.readNet(\"yolov3.weights\", \"yolov3.cfg\")\n",
        "classes = open(\"coco.names\").read().strip().split(\"\\n\")\n",
        "layer_names = net.getLayerNames()\n",
        "out_layers = [layer_names[i - 1] for i in net.getUnconnectedOutLayers()]\n",
        "\n",
        "# Open video capture\n",
        "cap = cv2.VideoCapture(\"/content/3719588837-preview.mp4\")\n",
        "\n",
        "# Get video properties\n",
        "frame_width = int(cap.get(3))\n",
        "frame_height = int(cap.get(4))\n",
        "fps = int(cap.get(cv2.CAP_PROP_FPS))\n",
        "\n",
        "# Define codec and create VideoWriter object\n",
        "fourcc = cv2.VideoWriter_fourcc(*'mp4v')  # Codec for MP4\n",
        "out = cv2.VideoWriter(\"output_video.mp4\", fourcc, fps, (frame_width, frame_height))\n",
        "\n",
        "while cap.isOpened():\n",
        "    ret, frame = cap.read()\n",
        "    if not ret:\n",
        "        break  # Stop if video ends\n",
        "\n",
        "    height, width = frame.shape[:2]\n",
        "\n",
        "    # Prepare frame for YOLO\n",
        "    blob = cv2.dnn.blobFromImage(frame, 1/255.0, (416, 416), swapRB=True, crop=False)\n",
        "    net.setInput(blob)\n",
        "    outs = net.forward(out_layers)\n",
        "\n",
        "    # Process YOLO detections\n",
        "    boxes, confidences, class_ids = [], [], []\n",
        "    conf_threshold, nms_threshold = 0.5, 0.4\n",
        "\n",
        "    for out_layer in outs:\n",
        "        for detection in out_layer:\n",
        "            scores = detection[5:]\n",
        "            class_id = np.argmax(scores)\n",
        "            confidence = scores[class_id]\n",
        "            if confidence > conf_threshold:\n",
        "                center_x, center_y, w, h = (detection[0:4] * np.array([width, height, width, height])).astype(\"int\")\n",
        "                x, y = int(center_x - w / 2), int(center_y - h / 2)\n",
        "                boxes.append([x, y, int(w), int(h)])\n",
        "                confidences.append(float(confidence))\n",
        "                class_ids.append(class_id)\n",
        "\n",
        "    # Apply Non-Maximum Suppression\n",
        "    indices = cv2.dnn.NMSBoxes(boxes, confidences, conf_threshold, nms_threshold)\n",
        "    if len(indices) > 0:\n",
        "        for i in indices.flatten():\n",
        "            x, y, w, h = boxes[i]\n",
        "            label = f\"{classes[class_ids[i]]}: {confidences[i]:.2f}\"\n",
        "            cv2.rectangle(frame, (x, y), (x + w, y + h), (0, 255, 0), 2)\n",
        "            cv2.putText(frame, label, (x, y - 10), cv2.FONT_HERSHEY_SIMPLEX, 0.5, (0, 255, 0), 2)\n",
        "\n",
        "    # ✅ FIX: Ensure we write the frame using `out`, not `frame.write()`\n",
        "    if frame is not None:\n",
        "        out.write(frame)  # ✅ Corrected\n",
        "\n",
        "# Release resources\n",
        "cap.release()\n",
        "out.release()\n",
        "cv2.destroyAllWindows()\n"
      ],
      "metadata": {
        "id": "o6af98ia61ue"
      },
      "execution_count": null,
      "outputs": []
    },
    {
      "cell_type": "markdown",
      "source": [
        "the video with object detection is saved as output_video.mp4"
      ],
      "metadata": {
        "id": "6mF47_oX_KpO"
      }
    }
  ]
}